{
  "cells": [
    {
      "cell_type": "markdown",
      "metadata": {
        "id": "view-in-github",
        "colab_type": "text"
      },
      "source": [
        "<a href=\"https://colab.research.google.com/github/Luciahelenasantos/PUC-SPRINT-III/blob/main/MVP_SPRINTIII_V1.ipynb\" target=\"_parent\"><img src=\"https://colab.research.google.com/assets/colab-badge.svg\" alt=\"Open In Colab\"/></a>"
      ]
    },
    {
      "cell_type": "markdown",
      "metadata": {
        "id": "kYC-U-sR9Zlk"
      },
      "source": [
        "# MVP Sprint III - PUC Rio"
      ]
    },
    {
      "cell_type": "markdown",
      "metadata": {
        "id": "SrIVmLWh9qNU"
      },
      "source": [
        "## Aluna : Lucia Helena Barros dos Santos"
      ]
    },
    {
      "cell_type": "markdown",
      "metadata": {
        "id": "60jX9YYp9v2D"
      },
      "source": [
        "# Descrição do Problema:"
      ]
    },
    {
      "cell_type": "markdown",
      "metadata": {
        "id": "8ejf16TmJGRS"
      },
      "source": [
        "Estudos sobre poluentes atmosféricos são cada vez mais necessários a partir de agora, profundas mudanças climáticas estão sendo observadas e apresentando uma tendência de crescimento e agravamento de fenômenos climáticos, assim tais estudos tornam-se cruciais e afetando de forma direta várias questões que afetam o cotidiano da população mundial.\n",
        "Vários são os assuntos relevantes quando se refere à estudos de poluentes:\n",
        "\n",
        "•\tO impacto na saúde humana dado que a poluição do ar está diretamente relacionada a uma série de problemas de saúde, incluindo doenças respiratórias, cardiovasculares e câncer.\n",
        "\n",
        "•\tA preservação do meio ambiente, pois poluentes atmosféricos podem causar danos ao meio ambiente, incluindo a acidificação de corpos d'água, danos a ecossistemas terrestres e aquáticos, e a destruição da camada de ozônio (O3).\n",
        "\n",
        "•\tO combate às mudanças climáticas, onde estudos sobre poluentes atmosféricos podem auxiliar na promoção de desenvolvimento sustentável.\n",
        "\n",
        "•\tA conformidade regulatória, é de conhecimento que muitos países têm regulamentações estritas relacionadas à qualidade do ar e limites de emissões de poluentes.\n",
        "\n",
        "•\tNo desenvolvimento de tecnologias limpas, onde a pesquisa sobre poluentes atmosféricos impulsiona o desenvolvimento de tecnologias mais limpas e eficientes, tanto na indústria quanto no transporte, contribuindo para a redução das emissões dos mesmos.\n",
        "\n",
        "•\tA Sensibilização Pública, os estudos sobre poluentes atmosféricos aumentam a conscientização pública sobre a importância da qualidade do ar e da redução da poluição, incentivando ações individuais e coletivas, visando proteger o meio ambiente.\n",
        "\n",
        "•\tA tomada de Decisão Política, dados e conclusões de estudos sobre poluentes atmosféricos são essenciais para a formulação de políticas públicas eficazes relacionadas ao meio ambiente e à saúde.\n",
        "\n",
        "Em virtude de tantos itens relevantes na proteção do meio ambiente e da saúde da população, o monitoramento da qualidade do ar passou a ter papel fundamental nos dias atuais e com perspectivas de crescimento e aprofundamento de estudos a respeito no futuro, assim tal fato sugeriu a análise do banco de dados encontrado na plataforma kaggle, contendo 10.980.514 (dez milhões novecentos e oitenta mil e quinhentos) registros, representando medições hora a hora realizadas por 87 estações meteorológicas distribuídas em localidades do Estado de São Paulo.\n",
        "\n",
        "As medições referem-se à 9 poluentes atmosféricos, cuja unidade de medida é o “microgramas por metro cúbico” (µg/m³). Sendo estes considerados de grande importância no que tange ao monitoramento da qualidade do ar, temos: MP10 – Material Particulado 10, MP2.5 – Material particulado 2.5, O3 – Ozônio, NO2 - Dióxido de Nitrogênio, CO - Monóxido de Carbono, SO2 – Dióxido de Enxofre, NO – Óxido de Nitrogênio, PTS – Partículas Totais em Suspensão e FMC – Fumaça.\n",
        "\n",
        "Dentre os 9 poluentes encontrados na base de dados, foram selecionados MP10, MP2.5, NO2 e O3 para o estudo em questão, permitindo a exploração dos dados afim de se fazer questionamentos com intuito de conhecer o comportamento e a evolução destes poluentes a nível temporal e geográfico.\n",
        "\n"
      ]
    },
    {
      "cell_type": "markdown",
      "metadata": {
        "id": "kMFtr4G0pWnM"
      },
      "source": [
        "# Carregando bibliotecas"
      ]
    },
    {
      "cell_type": "code",
      "execution_count": null,
      "metadata": {
        "id": "16mheKMDGkY0"
      },
      "outputs": [],
      "source": [
        "# Importe as bibliotecas necessárias\n",
        "import pandas as pd\n",
        "import seaborn as sns\n",
        "import numpy as np\n",
        "\n",
        "import matplotlib.pyplot as plt\n",
        "import plotly.express as px\n",
        "import sqlite3\n",
        "import psycopg2\n",
        "\n",
        "import warnings\n",
        "\n",
        "from google.colab import drive # acesso ao drive do google Colab - 'drive.mount'\n",
        "import os # para o retorno do caminho dos dados - 'os.chdir'"
      ]
    },
    {
      "cell_type": "code",
      "execution_count": null,
      "metadata": {
        "id": "5t30AUD16B_m"
      },
      "outputs": [],
      "source": [
        "warnings.filterwarnings(\"ignore\")"
      ]
    },
    {
      "cell_type": "markdown",
      "metadata": {
        "id": "Hd5kgduKtLPM"
      },
      "source": [
        "# Criando Funções"
      ]
    },
    {
      "cell_type": "code",
      "execution_count": null,
      "metadata": {
        "id": "9E7zztw5s_9m"
      },
      "outputs": [],
      "source": [
        "# Função que cria a variável Nmes com os nomes dos meses do ano\n",
        "\n",
        "def calcula_nome_mes(mes):\n",
        "  vmes = mes\n",
        "\n",
        "  if mes == 1:\n",
        "    return \"Janeiro\"\n",
        "  elif mes == 2:\n",
        "    return \"Fevereiro\"\n",
        "  elif mes == 3:\n",
        "    return \"Março\"\n",
        "  elif mes == 4:\n",
        "    return \"Abril\"\n",
        "  elif mes == 5:\n",
        "    return \"Maio\"\n",
        "  elif mes == 6:\n",
        "    return \"Junho\"\n",
        "  elif mes == 7:\n",
        "    return \"Julho\"\n",
        "  elif mes == 8:\n",
        "    return \"Agosto\"\n",
        "  elif mes == 9:\n",
        "    return \"Setembro\"\n",
        "  elif mes == 10:\n",
        "    return \"Outubro\"\n",
        "  elif mes == 11:\n",
        "    return \"Novembro\"\n",
        "  else:\n",
        "    return \"Dezembro\"\n",
        "\n",
        "\n",
        "# Função que cria a variável num com valores numéricos para as estações do ano\n",
        "\n",
        "def calcula_estacao_ano(dt):\n",
        "  vdia = dt.day\n",
        "  vmes = dt.month\n",
        "\n",
        "  if vmes in (1,2):\n",
        "    return \"Verão\"\n",
        "  elif vmes == 3:\n",
        "    if vdia < 21:\n",
        "      return \"Verão\"\n",
        "    else:\n",
        "      return \"Outono\"\n",
        "  elif vmes in (4,5):\n",
        "      return \"Outono\"\n",
        "  elif vmes == 6:\n",
        "      if vdia < 21:\n",
        "        return \"Outono\"\n",
        "      else:\n",
        "        return \"Inverno\"\n",
        "  elif vmes in (7,8):\n",
        "      return \"Inverno\"\n",
        "  elif vmes == 9:\n",
        "      if vdia < 21:\n",
        "        return \"Inverno\"\n",
        "      else:\n",
        "        return \"Primavera\"\n",
        "  elif vmes in (10,11):\n",
        "      return \"Primavera\"\n",
        "  elif vmes == 12:\n",
        "      if vdia < 21:\n",
        "        return \"Primavera\"\n",
        "      else:\n",
        "        return \"Verão\"\n",
        "\n",
        "# Função que cria a variável Nmes com os períodos do dia em função da hora\n",
        "\n",
        "def calcula_periodo_dia(hora):\n",
        "    vhora = hora\n",
        "\n",
        "    if vhora in (\"00:00\",\"01:00\",\"02:00\",\"03:00\",\"04:00\",\"05:00\",\"06:00\"):\n",
        "      return \"Madrugada\"\n",
        "    elif vhora in (\"07:00\",\"08:00\",\"09:00\",\"10:00\",\"11:00\",\"12:00\"):\n",
        "      return \"Manhã\"\n",
        "    elif vhora in (\"13:00\",\"14:00\",\"15:00\",\"16:00\",\"17:00\",\"18:00\"):\n",
        "      return \"Tarde\"\n",
        "    else:\n",
        "      return \"Noite\"\n"
      ]
    },
    {
      "cell_type": "markdown",
      "metadata": {
        "id": "g1Fbl0vteKcu"
      },
      "source": [
        "# Preparando o Ambiente"
      ]
    },
    {
      "cell_type": "code",
      "execution_count": null,
      "metadata": {
        "colab": {
          "base_uri": "https://localhost:8080/"
        },
        "id": "JzpJvgg5FjbD",
        "outputId": "23f0831e-e02c-4189-c921-6d44c79ca747"
      },
      "outputs": [
        {
          "name": "stdout",
          "output_type": "stream",
          "text": [
            "Mounted at /content/drive\n"
          ]
        }
      ],
      "source": [
        "# Apontando para My Drive\n",
        "\n",
        "drive.mount('/content/drive', force_remount=True)\n",
        "\n",
        "os.chdir('/content/drive/My Drive/')"
      ]
    },
    {
      "cell_type": "markdown",
      "metadata": {
        "id": "vzL160jmeSvg"
      },
      "source": [
        "# Carregando os Dados"
      ]
    },
    {
      "cell_type": "code",
      "execution_count": null,
      "metadata": {
        "id": "cHe0vYapFkQF"
      },
      "outputs": [],
      "source": [
        "# Importando o arquivo em formato csv hospedado em My Drive\n",
        "\n",
        "caminho = \"/content/drive/My Drive/dadoarsp/SP_poluicao_dados.csv\"\n",
        "\n",
        "dadoarsp = pd.read_csv(caminho, index_col=False, delimiter=',')"
      ]
    },
    {
      "cell_type": "code",
      "execution_count": null,
      "metadata": {
        "id": "WZ9CoJTdre85"
      },
      "outputs": [],
      "source": [
        "# Alterando o atributo Data de object para formato date\n",
        "\n",
        "dadoarsp['Data'] = pd.to_datetime(dadoarsp['Data'])"
      ]
    },
    {
      "cell_type": "code",
      "execution_count": null,
      "metadata": {
        "id": "vdcspX0Qr92b"
      },
      "outputs": [],
      "source": [
        "# Suponha que você tenha um DataFrame chamado 'dadosarsp'\n",
        "dadoarsp = dadoarsp.drop(columns=['Unnamed: 0'])\n"
      ]
    },
    {
      "cell_type": "code",
      "execution_count": null,
      "metadata": {
        "id": "ZYVC93XxsX_V"
      },
      "outputs": [],
      "source": [
        "dadoarsp['Ano'] = dadoarsp['Data'].dt.year\n",
        "dadoarsp['Mes'] = dadoarsp['Data'].dt.month"
      ]
    },
    {
      "cell_type": "code",
      "execution_count": null,
      "metadata": {
        "id": "HxIrQ7aDs0Xi"
      },
      "outputs": [],
      "source": [
        "# Criando a variável \"nmes\" dando nome aos meses dos anos\n",
        "\n",
        "dadoarsp[\"nmes\"] = dadoarsp[\"Mes\"].apply(calcula_nome_mes)"
      ]
    },
    {
      "cell_type": "code",
      "execution_count": null,
      "metadata": {
        "id": "DCzz6AchGVG-"
      },
      "outputs": [],
      "source": [
        "# Criando a variável \"estacao_ano\" para identificar as estações climáticas\n",
        "\n",
        "dadoarsp[\"estacao_ano\"] = dadoarsp[\"Data\"].apply(calcula_estacao_ano)"
      ]
    },
    {
      "cell_type": "code",
      "execution_count": null,
      "metadata": {
        "id": "FPSnZNGDzokI"
      },
      "outputs": [],
      "source": [
        "# Criando a variável \"periodo_dia\" para identificar manhã, tarde ou noite\n",
        "\n",
        "dadoarsp[\"periodo_dia\"] = dadoarsp[\"Hora\"].apply(calcula_periodo_dia)"
      ]
    },
    {
      "cell_type": "code",
      "execution_count": null,
      "metadata": {
        "colab": {
          "base_uri": "https://localhost:8080/",
          "height": 791
        },
        "id": "47o0SHz9ISvp",
        "outputId": "afcbb8f4-e8f1-49fe-8783-191fdef2160d"
      },
      "outputs": [
        {
          "data": {
            "text/html": [
              "\n",
              "  <div id=\"df-ab3167ad-664b-4722-82dd-a418049b979f\" class=\"colab-df-container\">\n",
              "    <div>\n",
              "<style scoped>\n",
              "    .dataframe tbody tr th:only-of-type {\n",
              "        vertical-align: middle;\n",
              "    }\n",
              "\n",
              "    .dataframe tbody tr th {\n",
              "        vertical-align: top;\n",
              "    }\n",
              "\n",
              "    .dataframe thead th {\n",
              "        text-align: right;\n",
              "    }\n",
              "</style>\n",
              "<table border=\"1\" class=\"dataframe\">\n",
              "  <thead>\n",
              "    <tr style=\"text-align: right;\">\n",
              "      <th></th>\n",
              "      <th>ID</th>\n",
              "      <th>Data</th>\n",
              "      <th>Hora</th>\n",
              "      <th>Estacao</th>\n",
              "      <th>Codigo</th>\n",
              "      <th>Poluente</th>\n",
              "      <th>Valor</th>\n",
              "      <th>Unidade</th>\n",
              "      <th>Tipo</th>\n",
              "      <th>Ano</th>\n",
              "      <th>Mes</th>\n",
              "      <th>nmes</th>\n",
              "      <th>estacao_ano</th>\n",
              "      <th>periodo_dia</th>\n",
              "    </tr>\n",
              "  </thead>\n",
              "  <tbody>\n",
              "    <tr>\n",
              "      <th>0</th>\n",
              "      <td>0</td>\n",
              "      <td>2015-01-01</td>\n",
              "      <td>01:00</td>\n",
              "      <td>Americana - Vila Santa Maria</td>\n",
              "      <td>SP01</td>\n",
              "      <td>MP10</td>\n",
              "      <td>65.0</td>\n",
              "      <td>ug/m3</td>\n",
              "      <td>automatica</td>\n",
              "      <td>2015</td>\n",
              "      <td>1</td>\n",
              "      <td>Janeiro</td>\n",
              "      <td>Verão</td>\n",
              "      <td>Madrugada</td>\n",
              "    </tr>\n",
              "    <tr>\n",
              "      <th>1</th>\n",
              "      <td>1</td>\n",
              "      <td>2015-01-01</td>\n",
              "      <td>02:00</td>\n",
              "      <td>Americana - Vila Santa Maria</td>\n",
              "      <td>SP01</td>\n",
              "      <td>MP10</td>\n",
              "      <td>98.0</td>\n",
              "      <td>ug/m3</td>\n",
              "      <td>automatica</td>\n",
              "      <td>2015</td>\n",
              "      <td>1</td>\n",
              "      <td>Janeiro</td>\n",
              "      <td>Verão</td>\n",
              "      <td>Madrugada</td>\n",
              "    </tr>\n",
              "    <tr>\n",
              "      <th>2</th>\n",
              "      <td>2</td>\n",
              "      <td>2015-01-01</td>\n",
              "      <td>03:00</td>\n",
              "      <td>Americana - Vila Santa Maria</td>\n",
              "      <td>SP01</td>\n",
              "      <td>MP10</td>\n",
              "      <td>79.0</td>\n",
              "      <td>ug/m3</td>\n",
              "      <td>automatica</td>\n",
              "      <td>2015</td>\n",
              "      <td>1</td>\n",
              "      <td>Janeiro</td>\n",
              "      <td>Verão</td>\n",
              "      <td>Madrugada</td>\n",
              "    </tr>\n",
              "    <tr>\n",
              "      <th>3</th>\n",
              "      <td>3</td>\n",
              "      <td>2015-01-01</td>\n",
              "      <td>04:00</td>\n",
              "      <td>Americana - Vila Santa Maria</td>\n",
              "      <td>SP01</td>\n",
              "      <td>MP10</td>\n",
              "      <td>53.0</td>\n",
              "      <td>ug/m3</td>\n",
              "      <td>automatica</td>\n",
              "      <td>2015</td>\n",
              "      <td>1</td>\n",
              "      <td>Janeiro</td>\n",
              "      <td>Verão</td>\n",
              "      <td>Madrugada</td>\n",
              "    </tr>\n",
              "    <tr>\n",
              "      <th>4</th>\n",
              "      <td>4</td>\n",
              "      <td>2015-01-01</td>\n",
              "      <td>05:00</td>\n",
              "      <td>Americana - Vila Santa Maria</td>\n",
              "      <td>SP01</td>\n",
              "      <td>MP10</td>\n",
              "      <td>35.0</td>\n",
              "      <td>ug/m3</td>\n",
              "      <td>automatica</td>\n",
              "      <td>2015</td>\n",
              "      <td>1</td>\n",
              "      <td>Janeiro</td>\n",
              "      <td>Verão</td>\n",
              "      <td>Madrugada</td>\n",
              "    </tr>\n",
              "    <tr>\n",
              "      <th>...</th>\n",
              "      <td>...</td>\n",
              "      <td>...</td>\n",
              "      <td>...</td>\n",
              "      <td>...</td>\n",
              "      <td>...</td>\n",
              "      <td>...</td>\n",
              "      <td>...</td>\n",
              "      <td>...</td>\n",
              "      <td>...</td>\n",
              "      <td>...</td>\n",
              "      <td>...</td>\n",
              "      <td>...</td>\n",
              "      <td>...</td>\n",
              "      <td>...</td>\n",
              "    </tr>\n",
              "    <tr>\n",
              "      <th>10980510</th>\n",
              "      <td>10980510</td>\n",
              "      <td>2021-02-01</td>\n",
              "      <td>01:00</td>\n",
              "      <td>Tatuapé</td>\n",
              "      <td>SP76</td>\n",
              "      <td>SO2</td>\n",
              "      <td>3.0</td>\n",
              "      <td>ug/m3</td>\n",
              "      <td>manual</td>\n",
              "      <td>2021</td>\n",
              "      <td>2</td>\n",
              "      <td>Fevereiro</td>\n",
              "      <td>Verão</td>\n",
              "      <td>Madrugada</td>\n",
              "    </tr>\n",
              "    <tr>\n",
              "      <th>10980511</th>\n",
              "      <td>10980511</td>\n",
              "      <td>2021-03-01</td>\n",
              "      <td>01:00</td>\n",
              "      <td>Tatuapé</td>\n",
              "      <td>SP76</td>\n",
              "      <td>SO2</td>\n",
              "      <td>3.0</td>\n",
              "      <td>ug/m3</td>\n",
              "      <td>manual</td>\n",
              "      <td>2021</td>\n",
              "      <td>3</td>\n",
              "      <td>Março</td>\n",
              "      <td>Verão</td>\n",
              "      <td>Madrugada</td>\n",
              "    </tr>\n",
              "    <tr>\n",
              "      <th>10980512</th>\n",
              "      <td>10980512</td>\n",
              "      <td>2021-04-01</td>\n",
              "      <td>01:00</td>\n",
              "      <td>Tatuapé</td>\n",
              "      <td>SP76</td>\n",
              "      <td>SO2</td>\n",
              "      <td>3.0</td>\n",
              "      <td>ug/m3</td>\n",
              "      <td>manual</td>\n",
              "      <td>2021</td>\n",
              "      <td>4</td>\n",
              "      <td>Abril</td>\n",
              "      <td>Outono</td>\n",
              "      <td>Madrugada</td>\n",
              "    </tr>\n",
              "    <tr>\n",
              "      <th>10980513</th>\n",
              "      <td>10980513</td>\n",
              "      <td>2021-05-01</td>\n",
              "      <td>01:00</td>\n",
              "      <td>Tatuapé</td>\n",
              "      <td>SP76</td>\n",
              "      <td>SO2</td>\n",
              "      <td>5.0</td>\n",
              "      <td>ug/m3</td>\n",
              "      <td>manual</td>\n",
              "      <td>2021</td>\n",
              "      <td>5</td>\n",
              "      <td>Maio</td>\n",
              "      <td>Outono</td>\n",
              "      <td>Madrugada</td>\n",
              "    </tr>\n",
              "    <tr>\n",
              "      <th>10980514</th>\n",
              "      <td>10980514</td>\n",
              "      <td>2021-10-01</td>\n",
              "      <td>01:00</td>\n",
              "      <td>Tatuapé</td>\n",
              "      <td>SP76</td>\n",
              "      <td>SO2</td>\n",
              "      <td>3.0</td>\n",
              "      <td>ug/m3</td>\n",
              "      <td>manual</td>\n",
              "      <td>2021</td>\n",
              "      <td>10</td>\n",
              "      <td>Outubro</td>\n",
              "      <td>Primavera</td>\n",
              "      <td>Madrugada</td>\n",
              "    </tr>\n",
              "  </tbody>\n",
              "</table>\n",
              "<p>10980515 rows × 14 columns</p>\n",
              "</div>\n",
              "    <div class=\"colab-df-buttons\">\n",
              "\n",
              "  <div class=\"colab-df-container\">\n",
              "    <button class=\"colab-df-convert\" onclick=\"convertToInteractive('df-ab3167ad-664b-4722-82dd-a418049b979f')\"\n",
              "            title=\"Convert this dataframe to an interactive table.\"\n",
              "            style=\"display:none;\">\n",
              "\n",
              "  <svg xmlns=\"http://www.w3.org/2000/svg\" height=\"24px\" viewBox=\"0 -960 960 960\">\n",
              "    <path d=\"M120-120v-720h720v720H120Zm60-500h600v-160H180v160Zm220 220h160v-160H400v160Zm0 220h160v-160H400v160ZM180-400h160v-160H180v160Zm440 0h160v-160H620v160ZM180-180h160v-160H180v160Zm440 0h160v-160H620v160Z\"/>\n",
              "  </svg>\n",
              "    </button>\n",
              "\n",
              "  <style>\n",
              "    .colab-df-container {\n",
              "      display:flex;\n",
              "      gap: 12px;\n",
              "    }\n",
              "\n",
              "    .colab-df-convert {\n",
              "      background-color: #E8F0FE;\n",
              "      border: none;\n",
              "      border-radius: 50%;\n",
              "      cursor: pointer;\n",
              "      display: none;\n",
              "      fill: #1967D2;\n",
              "      height: 32px;\n",
              "      padding: 0 0 0 0;\n",
              "      width: 32px;\n",
              "    }\n",
              "\n",
              "    .colab-df-convert:hover {\n",
              "      background-color: #E2EBFA;\n",
              "      box-shadow: 0px 1px 2px rgba(60, 64, 67, 0.3), 0px 1px 3px 1px rgba(60, 64, 67, 0.15);\n",
              "      fill: #174EA6;\n",
              "    }\n",
              "\n",
              "    .colab-df-buttons div {\n",
              "      margin-bottom: 4px;\n",
              "    }\n",
              "\n",
              "    [theme=dark] .colab-df-convert {\n",
              "      background-color: #3B4455;\n",
              "      fill: #D2E3FC;\n",
              "    }\n",
              "\n",
              "    [theme=dark] .colab-df-convert:hover {\n",
              "      background-color: #434B5C;\n",
              "      box-shadow: 0px 1px 3px 1px rgba(0, 0, 0, 0.15);\n",
              "      filter: drop-shadow(0px 1px 2px rgba(0, 0, 0, 0.3));\n",
              "      fill: #FFFFFF;\n",
              "    }\n",
              "  </style>\n",
              "\n",
              "    <script>\n",
              "      const buttonEl =\n",
              "        document.querySelector('#df-ab3167ad-664b-4722-82dd-a418049b979f button.colab-df-convert');\n",
              "      buttonEl.style.display =\n",
              "        google.colab.kernel.accessAllowed ? 'block' : 'none';\n",
              "\n",
              "      async function convertToInteractive(key) {\n",
              "        const element = document.querySelector('#df-ab3167ad-664b-4722-82dd-a418049b979f');\n",
              "        const dataTable =\n",
              "          await google.colab.kernel.invokeFunction('convertToInteractive',\n",
              "                                                    [key], {});\n",
              "        if (!dataTable) return;\n",
              "\n",
              "        const docLinkHtml = 'Like what you see? Visit the ' +\n",
              "          '<a target=\"_blank\" href=https://colab.research.google.com/notebooks/data_table.ipynb>data table notebook</a>'\n",
              "          + ' to learn more about interactive tables.';\n",
              "        element.innerHTML = '';\n",
              "        dataTable['output_type'] = 'display_data';\n",
              "        await google.colab.output.renderOutput(dataTable, element);\n",
              "        const docLink = document.createElement('div');\n",
              "        docLink.innerHTML = docLinkHtml;\n",
              "        element.appendChild(docLink);\n",
              "      }\n",
              "    </script>\n",
              "  </div>\n",
              "\n",
              "\n",
              "<div id=\"df-8e13c7a1-8264-404c-a6d3-3270ed7852d9\">\n",
              "  <button class=\"colab-df-quickchart\" onclick=\"quickchart('df-8e13c7a1-8264-404c-a6d3-3270ed7852d9')\"\n",
              "            title=\"Suggest charts.\"\n",
              "            style=\"display:none;\">\n",
              "\n",
              "<svg xmlns=\"http://www.w3.org/2000/svg\" height=\"24px\"viewBox=\"0 0 24 24\"\n",
              "     width=\"24px\">\n",
              "    <g>\n",
              "        <path d=\"M19 3H5c-1.1 0-2 .9-2 2v14c0 1.1.9 2 2 2h14c1.1 0 2-.9 2-2V5c0-1.1-.9-2-2-2zM9 17H7v-7h2v7zm4 0h-2V7h2v10zm4 0h-2v-4h2v4z\"/>\n",
              "    </g>\n",
              "</svg>\n",
              "  </button>\n",
              "\n",
              "<style>\n",
              "  .colab-df-quickchart {\n",
              "      --bg-color: #E8F0FE;\n",
              "      --fill-color: #1967D2;\n",
              "      --hover-bg-color: #E2EBFA;\n",
              "      --hover-fill-color: #174EA6;\n",
              "      --disabled-fill-color: #AAA;\n",
              "      --disabled-bg-color: #DDD;\n",
              "  }\n",
              "\n",
              "  [theme=dark] .colab-df-quickchart {\n",
              "      --bg-color: #3B4455;\n",
              "      --fill-color: #D2E3FC;\n",
              "      --hover-bg-color: #434B5C;\n",
              "      --hover-fill-color: #FFFFFF;\n",
              "      --disabled-bg-color: #3B4455;\n",
              "      --disabled-fill-color: #666;\n",
              "  }\n",
              "\n",
              "  .colab-df-quickchart {\n",
              "    background-color: var(--bg-color);\n",
              "    border: none;\n",
              "    border-radius: 50%;\n",
              "    cursor: pointer;\n",
              "    display: none;\n",
              "    fill: var(--fill-color);\n",
              "    height: 32px;\n",
              "    padding: 0;\n",
              "    width: 32px;\n",
              "  }\n",
              "\n",
              "  .colab-df-quickchart:hover {\n",
              "    background-color: var(--hover-bg-color);\n",
              "    box-shadow: 0 1px 2px rgba(60, 64, 67, 0.3), 0 1px 3px 1px rgba(60, 64, 67, 0.15);\n",
              "    fill: var(--button-hover-fill-color);\n",
              "  }\n",
              "\n",
              "  .colab-df-quickchart-complete:disabled,\n",
              "  .colab-df-quickchart-complete:disabled:hover {\n",
              "    background-color: var(--disabled-bg-color);\n",
              "    fill: var(--disabled-fill-color);\n",
              "    box-shadow: none;\n",
              "  }\n",
              "\n",
              "  .colab-df-spinner {\n",
              "    border: 2px solid var(--fill-color);\n",
              "    border-color: transparent;\n",
              "    border-bottom-color: var(--fill-color);\n",
              "    animation:\n",
              "      spin 1s steps(1) infinite;\n",
              "  }\n",
              "\n",
              "  @keyframes spin {\n",
              "    0% {\n",
              "      border-color: transparent;\n",
              "      border-bottom-color: var(--fill-color);\n",
              "      border-left-color: var(--fill-color);\n",
              "    }\n",
              "    20% {\n",
              "      border-color: transparent;\n",
              "      border-left-color: var(--fill-color);\n",
              "      border-top-color: var(--fill-color);\n",
              "    }\n",
              "    30% {\n",
              "      border-color: transparent;\n",
              "      border-left-color: var(--fill-color);\n",
              "      border-top-color: var(--fill-color);\n",
              "      border-right-color: var(--fill-color);\n",
              "    }\n",
              "    40% {\n",
              "      border-color: transparent;\n",
              "      border-right-color: var(--fill-color);\n",
              "      border-top-color: var(--fill-color);\n",
              "    }\n",
              "    60% {\n",
              "      border-color: transparent;\n",
              "      border-right-color: var(--fill-color);\n",
              "    }\n",
              "    80% {\n",
              "      border-color: transparent;\n",
              "      border-right-color: var(--fill-color);\n",
              "      border-bottom-color: var(--fill-color);\n",
              "    }\n",
              "    90% {\n",
              "      border-color: transparent;\n",
              "      border-bottom-color: var(--fill-color);\n",
              "    }\n",
              "  }\n",
              "</style>\n",
              "\n",
              "  <script>\n",
              "    async function quickchart(key) {\n",
              "      const quickchartButtonEl =\n",
              "        document.querySelector('#' + key + ' button');\n",
              "      quickchartButtonEl.disabled = true;  // To prevent multiple clicks.\n",
              "      quickchartButtonEl.classList.add('colab-df-spinner');\n",
              "      try {\n",
              "        const charts = await google.colab.kernel.invokeFunction(\n",
              "            'suggestCharts', [key], {});\n",
              "      } catch (error) {\n",
              "        console.error('Error during call to suggestCharts:', error);\n",
              "      }\n",
              "      quickchartButtonEl.classList.remove('colab-df-spinner');\n",
              "      quickchartButtonEl.classList.add('colab-df-quickchart-complete');\n",
              "    }\n",
              "    (() => {\n",
              "      let quickchartButtonEl =\n",
              "        document.querySelector('#df-8e13c7a1-8264-404c-a6d3-3270ed7852d9 button');\n",
              "      quickchartButtonEl.style.display =\n",
              "        google.colab.kernel.accessAllowed ? 'block' : 'none';\n",
              "    })();\n",
              "  </script>\n",
              "</div>\n",
              "    </div>\n",
              "  </div>\n"
            ],
            "text/plain": [
              "                ID       Data   Hora                       Estacao Codigo  \\\n",
              "0                0 2015-01-01  01:00  Americana - Vila Santa Maria   SP01   \n",
              "1                1 2015-01-01  02:00  Americana - Vila Santa Maria   SP01   \n",
              "2                2 2015-01-01  03:00  Americana - Vila Santa Maria   SP01   \n",
              "3                3 2015-01-01  04:00  Americana - Vila Santa Maria   SP01   \n",
              "4                4 2015-01-01  05:00  Americana - Vila Santa Maria   SP01   \n",
              "...            ...        ...    ...                           ...    ...   \n",
              "10980510  10980510 2021-02-01  01:00                       Tatuapé   SP76   \n",
              "10980511  10980511 2021-03-01  01:00                       Tatuapé   SP76   \n",
              "10980512  10980512 2021-04-01  01:00                       Tatuapé   SP76   \n",
              "10980513  10980513 2021-05-01  01:00                       Tatuapé   SP76   \n",
              "10980514  10980514 2021-10-01  01:00                       Tatuapé   SP76   \n",
              "\n",
              "         Poluente  Valor Unidade        Tipo   Ano  Mes       nmes  \\\n",
              "0            MP10   65.0   ug/m3  automatica  2015    1    Janeiro   \n",
              "1            MP10   98.0   ug/m3  automatica  2015    1    Janeiro   \n",
              "2            MP10   79.0   ug/m3  automatica  2015    1    Janeiro   \n",
              "3            MP10   53.0   ug/m3  automatica  2015    1    Janeiro   \n",
              "4            MP10   35.0   ug/m3  automatica  2015    1    Janeiro   \n",
              "...           ...    ...     ...         ...   ...  ...        ...   \n",
              "10980510      SO2    3.0   ug/m3      manual  2021    2  Fevereiro   \n",
              "10980511      SO2    3.0   ug/m3      manual  2021    3      Março   \n",
              "10980512      SO2    3.0   ug/m3      manual  2021    4      Abril   \n",
              "10980513      SO2    5.0   ug/m3      manual  2021    5       Maio   \n",
              "10980514      SO2    3.0   ug/m3      manual  2021   10    Outubro   \n",
              "\n",
              "         estacao_ano periodo_dia  \n",
              "0              Verão   Madrugada  \n",
              "1              Verão   Madrugada  \n",
              "2              Verão   Madrugada  \n",
              "3              Verão   Madrugada  \n",
              "4              Verão   Madrugada  \n",
              "...              ...         ...  \n",
              "10980510       Verão   Madrugada  \n",
              "10980511       Verão   Madrugada  \n",
              "10980512      Outono   Madrugada  \n",
              "10980513      Outono   Madrugada  \n",
              "10980514   Primavera   Madrugada  \n",
              "\n",
              "[10980515 rows x 14 columns]"
            ]
          },
          "execution_count": 15,
          "metadata": {},
          "output_type": "execute_result"
        }
      ],
      "source": [
        "dadoarsp"
      ]
    },
    {
      "cell_type": "code",
      "execution_count": null,
      "metadata": {
        "colab": {
          "base_uri": "https://localhost:8080/"
        },
        "id": "OrS_FjbhWj85",
        "outputId": "664e8e2f-33fc-4362-9564-f26c81e7b0aa"
      },
      "outputs": [
        {
          "name": "stdout",
          "output_type": "stream",
          "text": [
            "<class 'pandas.core.frame.DataFrame'>\n",
            "RangeIndex: 10980515 entries, 0 to 10980514\n",
            "Data columns (total 14 columns):\n",
            " #   Column       Dtype         \n",
            "---  ------       -----         \n",
            " 0   ID           int64         \n",
            " 1   Data         datetime64[ns]\n",
            " 2   Hora         object        \n",
            " 3   Estacao      object        \n",
            " 4   Codigo       object        \n",
            " 5   Poluente     object        \n",
            " 6   Valor        float64       \n",
            " 7   Unidade      object        \n",
            " 8   Tipo         object        \n",
            " 9   Ano          int64         \n",
            " 10  Mes          int64         \n",
            " 11  nmes         object        \n",
            " 12  estacao_ano  object        \n",
            " 13  periodo_dia  object        \n",
            "dtypes: datetime64[ns](1), float64(1), int64(3), object(9)\n",
            "memory usage: 1.1+ GB\n"
          ]
        }
      ],
      "source": [
        "dadoarsp.info()"
      ]
    },
    {
      "cell_type": "markdown",
      "metadata": {
        "id": "9GLZmuggLtSO"
      },
      "source": [
        "# ***4 - Análise Exploratória por poluente***"
      ]
    },
    {
      "cell_type": "markdown",
      "metadata": {
        "id": "jYycyhYHHJKc"
      },
      "source": [
        "### 4.1.1 - PM10"
      ]
    },
    {
      "cell_type": "markdown",
      "metadata": {
        "id": "vFN4V1KNII20"
      },
      "source": [
        "A relevância do estudo do poluente MP10 está atrelada aos impactos significativos para a saúde humana como problemas respiratórios, ou o agravamento de condições respiratórias pré-existentes (como asma e bronquite). Estudos revelam que a grande exposição a partículas MP10 está associada a um maior risco de doenças cardiovasculares, como ataques cardíacos e derrames, devido à inflamação sistêmica e ao estresse oxidativo.\n",
        "\n",
        "Quanto às implicações ambientais o poluente PM10 contribui para a má qualidade do ar, afetando a visibilidade do ambiente e causando problemas de saúde em animais selvagens e ecossistemas, além de transportar poluentes atmosféricos, incluindo nutrientes como nitrogênio e enxofre, que, quando depositados no solo ou na água, também podem afetar negativamente ecossistemas terrestres e aquáticos, prejudicando a biodiversidade e a qualidade geral do meio ambiente.\n"
      ]
    },
    {
      "cell_type": "code",
      "execution_count": null,
      "metadata": {
        "id": "lGcpNvLEAqZf"
      },
      "outputs": [],
      "source": [
        "# Selecionando no banco dadoarsp o poluentes MP10\n",
        "\n",
        "dadoarMP10 = dadoarsp[['Data','Estacao', 'Poluente', 'Valor', 'Ano','estacao_ano']]\n",
        "dadoarMP10 = dadoarMP10.loc[  dadoarMP10 ['Poluente'] == 'MP10' ]"
      ]
    },
    {
      "cell_type": "code",
      "execution_count": null,
      "metadata": {
        "colab": {
          "base_uri": "https://localhost:8080/",
          "height": 424
        },
        "id": "sXqd9bSq_2KG",
        "outputId": "75b3ff6e-91ce-4d5c-a62d-307ca12d17ed"
      },
      "outputs": [
        {
          "data": {
            "text/html": [
              "\n",
              "  <div id=\"df-36cfc257-1901-49a6-bc48-a8ad6c90c540\" class=\"colab-df-container\">\n",
              "    <div>\n",
              "<style scoped>\n",
              "    .dataframe tbody tr th:only-of-type {\n",
              "        vertical-align: middle;\n",
              "    }\n",
              "\n",
              "    .dataframe tbody tr th {\n",
              "        vertical-align: top;\n",
              "    }\n",
              "\n",
              "    .dataframe thead th {\n",
              "        text-align: right;\n",
              "    }\n",
              "</style>\n",
              "<table border=\"1\" class=\"dataframe\">\n",
              "  <thead>\n",
              "    <tr style=\"text-align: right;\">\n",
              "      <th></th>\n",
              "      <th>Data</th>\n",
              "      <th>Estacao</th>\n",
              "      <th>Poluente</th>\n",
              "      <th>Valor</th>\n",
              "      <th>Ano</th>\n",
              "      <th>estacao_ano</th>\n",
              "    </tr>\n",
              "  </thead>\n",
              "  <tbody>\n",
              "    <tr>\n",
              "      <th>0</th>\n",
              "      <td>2015-01-01</td>\n",
              "      <td>Americana - Vila Santa Maria</td>\n",
              "      <td>MP10</td>\n",
              "      <td>65.0</td>\n",
              "      <td>2015</td>\n",
              "      <td>Verão</td>\n",
              "    </tr>\n",
              "    <tr>\n",
              "      <th>1</th>\n",
              "      <td>2015-01-01</td>\n",
              "      <td>Americana - Vila Santa Maria</td>\n",
              "      <td>MP10</td>\n",
              "      <td>98.0</td>\n",
              "      <td>2015</td>\n",
              "      <td>Verão</td>\n",
              "    </tr>\n",
              "    <tr>\n",
              "      <th>2</th>\n",
              "      <td>2015-01-01</td>\n",
              "      <td>Americana - Vila Santa Maria</td>\n",
              "      <td>MP10</td>\n",
              "      <td>79.0</td>\n",
              "      <td>2015</td>\n",
              "      <td>Verão</td>\n",
              "    </tr>\n",
              "    <tr>\n",
              "      <th>3</th>\n",
              "      <td>2015-01-01</td>\n",
              "      <td>Americana - Vila Santa Maria</td>\n",
              "      <td>MP10</td>\n",
              "      <td>53.0</td>\n",
              "      <td>2015</td>\n",
              "      <td>Verão</td>\n",
              "    </tr>\n",
              "    <tr>\n",
              "      <th>4</th>\n",
              "      <td>2015-01-01</td>\n",
              "      <td>Americana - Vila Santa Maria</td>\n",
              "      <td>MP10</td>\n",
              "      <td>35.0</td>\n",
              "      <td>2015</td>\n",
              "      <td>Verão</td>\n",
              "    </tr>\n",
              "    <tr>\n",
              "      <th>...</th>\n",
              "      <td>...</td>\n",
              "      <td>...</td>\n",
              "      <td>...</td>\n",
              "      <td>...</td>\n",
              "      <td>...</td>\n",
              "      <td>...</td>\n",
              "    </tr>\n",
              "    <tr>\n",
              "      <th>10980190</th>\n",
              "      <td>2021-11-20</td>\n",
              "      <td>Santa Gertrudes - Jd. Luciana</td>\n",
              "      <td>MP10</td>\n",
              "      <td>24.0</td>\n",
              "      <td>2021</td>\n",
              "      <td>Primavera</td>\n",
              "    </tr>\n",
              "    <tr>\n",
              "      <th>10980191</th>\n",
              "      <td>2021-11-26</td>\n",
              "      <td>Santa Gertrudes - Jd. Luciana</td>\n",
              "      <td>MP10</td>\n",
              "      <td>27.0</td>\n",
              "      <td>2021</td>\n",
              "      <td>Primavera</td>\n",
              "    </tr>\n",
              "    <tr>\n",
              "      <th>10980192</th>\n",
              "      <td>2021-12-02</td>\n",
              "      <td>Santa Gertrudes - Jd. Luciana</td>\n",
              "      <td>MP10</td>\n",
              "      <td>49.0</td>\n",
              "      <td>2021</td>\n",
              "      <td>Primavera</td>\n",
              "    </tr>\n",
              "    <tr>\n",
              "      <th>10980193</th>\n",
              "      <td>2021-12-08</td>\n",
              "      <td>Santa Gertrudes - Jd. Luciana</td>\n",
              "      <td>MP10</td>\n",
              "      <td>53.0</td>\n",
              "      <td>2021</td>\n",
              "      <td>Primavera</td>\n",
              "    </tr>\n",
              "    <tr>\n",
              "      <th>10980194</th>\n",
              "      <td>2021-12-14</td>\n",
              "      <td>Santa Gertrudes - Jd. Luciana</td>\n",
              "      <td>MP10</td>\n",
              "      <td>29.0</td>\n",
              "      <td>2021</td>\n",
              "      <td>Primavera</td>\n",
              "    </tr>\n",
              "  </tbody>\n",
              "</table>\n",
              "<p>2883216 rows × 6 columns</p>\n",
              "</div>\n",
              "    <div class=\"colab-df-buttons\">\n",
              "\n",
              "  <div class=\"colab-df-container\">\n",
              "    <button class=\"colab-df-convert\" onclick=\"convertToInteractive('df-36cfc257-1901-49a6-bc48-a8ad6c90c540')\"\n",
              "            title=\"Convert this dataframe to an interactive table.\"\n",
              "            style=\"display:none;\">\n",
              "\n",
              "  <svg xmlns=\"http://www.w3.org/2000/svg\" height=\"24px\" viewBox=\"0 -960 960 960\">\n",
              "    <path d=\"M120-120v-720h720v720H120Zm60-500h600v-160H180v160Zm220 220h160v-160H400v160Zm0 220h160v-160H400v160ZM180-400h160v-160H180v160Zm440 0h160v-160H620v160ZM180-180h160v-160H180v160Zm440 0h160v-160H620v160Z\"/>\n",
              "  </svg>\n",
              "    </button>\n",
              "\n",
              "  <style>\n",
              "    .colab-df-container {\n",
              "      display:flex;\n",
              "      gap: 12px;\n",
              "    }\n",
              "\n",
              "    .colab-df-convert {\n",
              "      background-color: #E8F0FE;\n",
              "      border: none;\n",
              "      border-radius: 50%;\n",
              "      cursor: pointer;\n",
              "      display: none;\n",
              "      fill: #1967D2;\n",
              "      height: 32px;\n",
              "      padding: 0 0 0 0;\n",
              "      width: 32px;\n",
              "    }\n",
              "\n",
              "    .colab-df-convert:hover {\n",
              "      background-color: #E2EBFA;\n",
              "      box-shadow: 0px 1px 2px rgba(60, 64, 67, 0.3), 0px 1px 3px 1px rgba(60, 64, 67, 0.15);\n",
              "      fill: #174EA6;\n",
              "    }\n",
              "\n",
              "    .colab-df-buttons div {\n",
              "      margin-bottom: 4px;\n",
              "    }\n",
              "\n",
              "    [theme=dark] .colab-df-convert {\n",
              "      background-color: #3B4455;\n",
              "      fill: #D2E3FC;\n",
              "    }\n",
              "\n",
              "    [theme=dark] .colab-df-convert:hover {\n",
              "      background-color: #434B5C;\n",
              "      box-shadow: 0px 1px 3px 1px rgba(0, 0, 0, 0.15);\n",
              "      filter: drop-shadow(0px 1px 2px rgba(0, 0, 0, 0.3));\n",
              "      fill: #FFFFFF;\n",
              "    }\n",
              "  </style>\n",
              "\n",
              "    <script>\n",
              "      const buttonEl =\n",
              "        document.querySelector('#df-36cfc257-1901-49a6-bc48-a8ad6c90c540 button.colab-df-convert');\n",
              "      buttonEl.style.display =\n",
              "        google.colab.kernel.accessAllowed ? 'block' : 'none';\n",
              "\n",
              "      async function convertToInteractive(key) {\n",
              "        const element = document.querySelector('#df-36cfc257-1901-49a6-bc48-a8ad6c90c540');\n",
              "        const dataTable =\n",
              "          await google.colab.kernel.invokeFunction('convertToInteractive',\n",
              "                                                    [key], {});\n",
              "        if (!dataTable) return;\n",
              "\n",
              "        const docLinkHtml = 'Like what you see? Visit the ' +\n",
              "          '<a target=\"_blank\" href=https://colab.research.google.com/notebooks/data_table.ipynb>data table notebook</a>'\n",
              "          + ' to learn more about interactive tables.';\n",
              "        element.innerHTML = '';\n",
              "        dataTable['output_type'] = 'display_data';\n",
              "        await google.colab.output.renderOutput(dataTable, element);\n",
              "        const docLink = document.createElement('div');\n",
              "        docLink.innerHTML = docLinkHtml;\n",
              "        element.appendChild(docLink);\n",
              "      }\n",
              "    </script>\n",
              "  </div>\n",
              "\n",
              "\n",
              "<div id=\"df-58f2d6bd-6fcd-4196-88b3-c156bb7492c7\">\n",
              "  <button class=\"colab-df-quickchart\" onclick=\"quickchart('df-58f2d6bd-6fcd-4196-88b3-c156bb7492c7')\"\n",
              "            title=\"Suggest charts.\"\n",
              "            style=\"display:none;\">\n",
              "\n",
              "<svg xmlns=\"http://www.w3.org/2000/svg\" height=\"24px\"viewBox=\"0 0 24 24\"\n",
              "     width=\"24px\">\n",
              "    <g>\n",
              "        <path d=\"M19 3H5c-1.1 0-2 .9-2 2v14c0 1.1.9 2 2 2h14c1.1 0 2-.9 2-2V5c0-1.1-.9-2-2-2zM9 17H7v-7h2v7zm4 0h-2V7h2v10zm4 0h-2v-4h2v4z\"/>\n",
              "    </g>\n",
              "</svg>\n",
              "  </button>\n",
              "\n",
              "<style>\n",
              "  .colab-df-quickchart {\n",
              "      --bg-color: #E8F0FE;\n",
              "      --fill-color: #1967D2;\n",
              "      --hover-bg-color: #E2EBFA;\n",
              "      --hover-fill-color: #174EA6;\n",
              "      --disabled-fill-color: #AAA;\n",
              "      --disabled-bg-color: #DDD;\n",
              "  }\n",
              "\n",
              "  [theme=dark] .colab-df-quickchart {\n",
              "      --bg-color: #3B4455;\n",
              "      --fill-color: #D2E3FC;\n",
              "      --hover-bg-color: #434B5C;\n",
              "      --hover-fill-color: #FFFFFF;\n",
              "      --disabled-bg-color: #3B4455;\n",
              "      --disabled-fill-color: #666;\n",
              "  }\n",
              "\n",
              "  .colab-df-quickchart {\n",
              "    background-color: var(--bg-color);\n",
              "    border: none;\n",
              "    border-radius: 50%;\n",
              "    cursor: pointer;\n",
              "    display: none;\n",
              "    fill: var(--fill-color);\n",
              "    height: 32px;\n",
              "    padding: 0;\n",
              "    width: 32px;\n",
              "  }\n",
              "\n",
              "  .colab-df-quickchart:hover {\n",
              "    background-color: var(--hover-bg-color);\n",
              "    box-shadow: 0 1px 2px rgba(60, 64, 67, 0.3), 0 1px 3px 1px rgba(60, 64, 67, 0.15);\n",
              "    fill: var(--button-hover-fill-color);\n",
              "  }\n",
              "\n",
              "  .colab-df-quickchart-complete:disabled,\n",
              "  .colab-df-quickchart-complete:disabled:hover {\n",
              "    background-color: var(--disabled-bg-color);\n",
              "    fill: var(--disabled-fill-color);\n",
              "    box-shadow: none;\n",
              "  }\n",
              "\n",
              "  .colab-df-spinner {\n",
              "    border: 2px solid var(--fill-color);\n",
              "    border-color: transparent;\n",
              "    border-bottom-color: var(--fill-color);\n",
              "    animation:\n",
              "      spin 1s steps(1) infinite;\n",
              "  }\n",
              "\n",
              "  @keyframes spin {\n",
              "    0% {\n",
              "      border-color: transparent;\n",
              "      border-bottom-color: var(--fill-color);\n",
              "      border-left-color: var(--fill-color);\n",
              "    }\n",
              "    20% {\n",
              "      border-color: transparent;\n",
              "      border-left-color: var(--fill-color);\n",
              "      border-top-color: var(--fill-color);\n",
              "    }\n",
              "    30% {\n",
              "      border-color: transparent;\n",
              "      border-left-color: var(--fill-color);\n",
              "      border-top-color: var(--fill-color);\n",
              "      border-right-color: var(--fill-color);\n",
              "    }\n",
              "    40% {\n",
              "      border-color: transparent;\n",
              "      border-right-color: var(--fill-color);\n",
              "      border-top-color: var(--fill-color);\n",
              "    }\n",
              "    60% {\n",
              "      border-color: transparent;\n",
              "      border-right-color: var(--fill-color);\n",
              "    }\n",
              "    80% {\n",
              "      border-color: transparent;\n",
              "      border-right-color: var(--fill-color);\n",
              "      border-bottom-color: var(--fill-color);\n",
              "    }\n",
              "    90% {\n",
              "      border-color: transparent;\n",
              "      border-bottom-color: var(--fill-color);\n",
              "    }\n",
              "  }\n",
              "</style>\n",
              "\n",
              "  <script>\n",
              "    async function quickchart(key) {\n",
              "      const quickchartButtonEl =\n",
              "        document.querySelector('#' + key + ' button');\n",
              "      quickchartButtonEl.disabled = true;  // To prevent multiple clicks.\n",
              "      quickchartButtonEl.classList.add('colab-df-spinner');\n",
              "      try {\n",
              "        const charts = await google.colab.kernel.invokeFunction(\n",
              "            'suggestCharts', [key], {});\n",
              "      } catch (error) {\n",
              "        console.error('Error during call to suggestCharts:', error);\n",
              "      }\n",
              "      quickchartButtonEl.classList.remove('colab-df-spinner');\n",
              "      quickchartButtonEl.classList.add('colab-df-quickchart-complete');\n",
              "    }\n",
              "    (() => {\n",
              "      let quickchartButtonEl =\n",
              "        document.querySelector('#df-58f2d6bd-6fcd-4196-88b3-c156bb7492c7 button');\n",
              "      quickchartButtonEl.style.display =\n",
              "        google.colab.kernel.accessAllowed ? 'block' : 'none';\n",
              "    })();\n",
              "  </script>\n",
              "</div>\n",
              "    </div>\n",
              "  </div>\n"
            ],
            "text/plain": [
              "               Data                        Estacao Poluente  Valor   Ano  \\\n",
              "0        2015-01-01   Americana - Vila Santa Maria     MP10   65.0  2015   \n",
              "1        2015-01-01   Americana - Vila Santa Maria     MP10   98.0  2015   \n",
              "2        2015-01-01   Americana - Vila Santa Maria     MP10   79.0  2015   \n",
              "3        2015-01-01   Americana - Vila Santa Maria     MP10   53.0  2015   \n",
              "4        2015-01-01   Americana - Vila Santa Maria     MP10   35.0  2015   \n",
              "...             ...                            ...      ...    ...   ...   \n",
              "10980190 2021-11-20  Santa Gertrudes - Jd. Luciana     MP10   24.0  2021   \n",
              "10980191 2021-11-26  Santa Gertrudes - Jd. Luciana     MP10   27.0  2021   \n",
              "10980192 2021-12-02  Santa Gertrudes - Jd. Luciana     MP10   49.0  2021   \n",
              "10980193 2021-12-08  Santa Gertrudes - Jd. Luciana     MP10   53.0  2021   \n",
              "10980194 2021-12-14  Santa Gertrudes - Jd. Luciana     MP10   29.0  2021   \n",
              "\n",
              "         estacao_ano  \n",
              "0              Verão  \n",
              "1              Verão  \n",
              "2              Verão  \n",
              "3              Verão  \n",
              "4              Verão  \n",
              "...              ...  \n",
              "10980190   Primavera  \n",
              "10980191   Primavera  \n",
              "10980192   Primavera  \n",
              "10980193   Primavera  \n",
              "10980194   Primavera  \n",
              "\n",
              "[2883216 rows x 6 columns]"
            ]
          },
          "execution_count": 18,
          "metadata": {},
          "output_type": "execute_result"
        }
      ],
      "source": [
        "# Verificando o banco dadoarMP10\n",
        "\n",
        "dadoarMP10"
      ]
    },
    {
      "cell_type": "code",
      "execution_count": null,
      "metadata": {
        "colab": {
          "base_uri": "https://localhost:8080/"
        },
        "id": "CtTwN42Qw0XR",
        "outputId": "3aeb1a7e-c386-4ebf-a3e4-8a3a2a12d463"
      },
      "outputs": [
        {
          "name": "stdout",
          "output_type": "stream",
          "text": [
            "count    2.883216e+06\n",
            "mean     2.920784e+01\n",
            "std      2.595918e+01\n",
            "min      0.000000e+00\n",
            "25%      1.300000e+01\n",
            "50%      2.200000e+01\n",
            "75%      3.700000e+01\n",
            "max      1.924000e+03\n",
            "Name: Valor, dtype: float64\n"
          ]
        }
      ],
      "source": [
        "descricao_valor = dadoarMP10['Valor'].describe()\n",
        "print(descricao_valor)"
      ]
    },
    {
      "cell_type": "code",
      "execution_count": null,
      "metadata": {
        "id": "Eaj1cP63LId1"
      },
      "outputs": [],
      "source": [
        "# Gráfico de linhas da série histórica do poluente PM10\n",
        "\n",
        "sns.set_style('darkgrid')\n",
        "sns.set_theme(style=\"darkgrid\", font_scale=0.75)\n",
        "plt.figure(figsize=(8, 6))\n",
        "plt.ylabel(\"PM10 (µg/m³)\")\n",
        "plt.xlabel(\"Ano\")\n",
        "plt.plot(dadoarMP10['Data'], dadoarMP10['Valor'])\n",
        "plt.title('Concentração do poluente MP10 medida em localidades do estado de São Paulo de 2015 a 2021')\n",
        "plt.show()"
      ]
    },
    {
      "cell_type": "code",
      "execution_count": null,
      "metadata": {
        "id": "Ha1trSl_3hLB"
      },
      "outputs": [],
      "source": [
        "# Selecionando valores MP10 para o Ano de 2021\n",
        "\n",
        "dadoarMP10_2021 = dadoarMP10[(dadoarMP10['Ano'] == 2021) & (dadoarMP10['Valor'] > 0)]"
      ]
    },
    {
      "cell_type": "code",
      "execution_count": null,
      "metadata": {
        "id": "EkJ2D8J8tw5R"
      },
      "outputs": [],
      "source": [
        "# analise por Municípios ao longo do período 2015 - 2022\n",
        "\n",
        "Graf_Munic = dadoarMP10_2021.groupby( by=['Estacao'] ).sum().reset_index()[['Estacao', 'Valor']].sort_values( 'Valor', ascending=False )\n",
        "Graf_Munic.head()\n",
        "plt.figure( figsize=(10, 5) )\n",
        "plt.title( 'Municípios com maiores valores medidos para o poluente MP10, no ano de 2021', loc='left', fontsize=12 )\n",
        "plt.bar( Graf_Munic.Estacao, Graf_Munic['Valor'], color='#f44e3f' )\n",
        "plt.ylabel('PM10 (µg/m³)')\n",
        "plt.xticks( rotation=90 );"
      ]
    },
    {
      "cell_type": "code",
      "execution_count": null,
      "metadata": {
        "id": "LGbaAuSV_O9p"
      },
      "outputs": [],
      "source": [
        "# Gráfico de barras referente à PM10\n",
        "\n",
        "gfg = sns.barplot(x = \"Ano\", y = \"Valor\", hue = \"estacao_ano\", data = dadoarMP10, errorbar=None);\n",
        "plt.axhline(y=29.20, color='r', linestyle='-')\n",
        "plt.axhline(y=50, color='b', linestyle='-')\n",
        "plt.title(\"Poluente MP10 medido em localidades do Estado de São Paulo, \\n segundo estações climáticas (2015-2021)\")\n",
        "plt.ylabel(\"PM10 (µg/m3)\")\n",
        "gfg.legend(fontsize=8)\n",
        "gfg.legend(bbox_to_anchor= (1,1))\n",
        "plt.show();"
      ]
    },
    {
      "cell_type": "code",
      "execution_count": null,
      "metadata": {
        "id": "tril2zKhNp6z"
      },
      "outputs": [],
      "source": [
        "# Apagando as tabelas utilizadas na análise do poluente MP10\n",
        "\n",
        "tabelasMP10 = [dadoarMP10,dadoarMP10_2021]\n",
        "for tabela in tabelasMP10:\n",
        "    del tabela"
      ]
    },
    {
      "cell_type": "markdown",
      "metadata": {
        "id": "170mAjT7QO-0"
      },
      "source": [
        "### 4.1.1 - PM2.5"
      ]
    },
    {
      "cell_type": "code",
      "execution_count": null,
      "metadata": {
        "id": "w8uEXMV-QhXZ"
      },
      "outputs": [],
      "source": [
        "# Selecionando no banco dadoarsp o poluentes MP2.5\n",
        "\n",
        "dadoarMP2_5 = dadoarsp[['Data','Estacao','Poluente','Valor','Ano','estacao_ano','nmes','Mes','periodo_dia','Hora']]\n",
        "dadoarMP2_5 = dadoarMP2_5.loc[  dadoarMP2_5 ['Poluente'] == 'MP2.5' ]"
      ]
    },
    {
      "cell_type": "code",
      "execution_count": null,
      "metadata": {
        "id": "mGJgk0wU6Ghn"
      },
      "outputs": [],
      "source": [
        "# Verificando o banco dadoarMP2_5\n",
        "\n",
        "dadoarMP2_5"
      ]
    },
    {
      "cell_type": "code",
      "execution_count": null,
      "metadata": {
        "id": "_VPaSxWK2UcQ"
      },
      "outputs": [],
      "source": [
        "descricao_valor = dadoarMP2_5['Valor'].describe()\n",
        "print(descricao_valor)"
      ]
    },
    {
      "cell_type": "code",
      "execution_count": null,
      "metadata": {
        "id": "a5qX2DdvRFJZ"
      },
      "outputs": [],
      "source": [
        "# Gráfico de linhas da série histórica do poluente PM2.5\n",
        "\n",
        "sns.set_style('darkgrid')\n",
        "sns.set_theme(style=\"darkgrid\", font_scale=0.75)\n",
        "plt.ylabel(\"PM2.5 (µg/m3)\")\n",
        "plt.xlabel(\"Ano\")\n",
        "plt.plot(dadoarMP2_5['Data'], dadoarMP2_5['Valor'])\n",
        "plt.title('Concentração do poluente MP2.5 medida em localidades do estado de São Paulo de 2015 a 2021');"
      ]
    },
    {
      "cell_type": "code",
      "execution_count": null,
      "metadata": {
        "id": "QODd-uPRsItN"
      },
      "outputs": [],
      "source": [
        "# Selecionando valores MP10 para o Ano de 2021\n",
        "\n",
        "dadoarMP2_5_2018 = dadoarMP2_5[(dadoarMP2_5['Ano'] == 2018) & (dadoarMP2_5['Valor'] > 0)]"
      ]
    },
    {
      "cell_type": "code",
      "execution_count": null,
      "metadata": {
        "id": "Z8OBPSZgwYop"
      },
      "outputs": [],
      "source": [
        "dadoarMP2_5_2018.info()"
      ]
    },
    {
      "cell_type": "code",
      "execution_count": null,
      "metadata": {
        "id": "hpgyfAJx1Buj"
      },
      "outputs": [],
      "source": [
        "# analise por Municípios ao longo do período 2015 - 2021\n",
        "\n",
        "Graf_Munic = dadoarMP2_5_2018.groupby( by=['Estacao'] ).sum().reset_index()[['Estacao', 'Valor']].sort_values( 'Valor', ascending=False )\n",
        "Graf_Munic.head()\n",
        "plt.figure( figsize=(8,5) )\n",
        "plt.title( 'Municípios com maiores valores medidos para o poluente MP2.5 no ano de 2018', loc='left', fontsize=10 )\n",
        "plt.bar( Graf_Munic['Estacao'], Graf_Munic['Valor'], color='#f44e3f' )\n",
        "plt.ylabel('PM10 (µg/m³)')\n",
        "plt.xticks( rotation=90 );"
      ]
    },
    {
      "cell_type": "code",
      "execution_count": null,
      "metadata": {
        "id": "C8-bN7zzSirk"
      },
      "outputs": [],
      "source": [
        "# Gráfico de barras referente ao poluente PM2.5\n",
        "\n",
        "gfg = sns.barplot(x = \"Ano\", y = \"Valor\", hue = \"estacao_ano\", data = dadoarMP2_5, errorbar=None);\n",
        "plt.axhline(y=17.32, color='r', linestyle='-')\n",
        "plt.title(\"Poluente MP2.5 medido em localidades do Estado de São Paulo, \\n segundo estações climáticas (2015-2021)\")\n",
        "plt.ylabel(\"PM2.5 (µg/m3)\")\n",
        "gfg.legend(fontsize=8)\n",
        "gfg.legend(bbox_to_anchor= (1,1))\n",
        "plt.show();"
      ]
    },
    {
      "cell_type": "code",
      "execution_count": null,
      "metadata": {
        "id": "srDd9AMIV_mK"
      },
      "outputs": [],
      "source": [
        "# Selecionando no banco dadoarMP2_5 os Anos de 2016 a 2016 a 2018 e 2021\n",
        "\n",
        "dadoarMP2_5_2016_2021 = dadoarMP2_5[['Valor','Ano','estacao_ano','Mes', 'nmes']]\n",
        "dadoarMP2_5_2016_2021 = dadoarMP2_5_2016_2021.loc[ ( dadoarMP2_5 ['Ano'] == 2016) | ( dadoarMP2_5 ['Ano'] == 2017) |\n",
        "                                                   ( dadoarMP2_5 ['Ano'] == 2018) | ( dadoarMP2_5 ['Ano'] == 2021) ]"
      ]
    },
    {
      "cell_type": "code",
      "execution_count": null,
      "metadata": {
        "id": "p8V4wmEHXr5x"
      },
      "outputs": [],
      "source": [
        "# Gráfico de barras referente ao PM2.5\n",
        "\n",
        "gfg = sns.barplot(x = \"Ano\", y = \"Valor\", hue = \"nmes\", data = dadoarMP2_5_2016_2021, errorbar=None);\n",
        "plt.axhline(y=17.32, color='r', linestyle='-')\n",
        "plt.title(\"Concentração do poluente PM2.5 medido em localidades do Estado de São Paulo por mês, \\n nos anos de 2016 a 2018 e 2021\")\n",
        "plt.ylabel(\"PM2.5 (µg/m3)\")\n",
        "gfg.legend(fontsize = 4.5)\n",
        "gfg.legend(bbox_to_anchor = (1,1))\n",
        "plt.show();"
      ]
    },
    {
      "cell_type": "code",
      "execution_count": null,
      "metadata": {
        "id": "8vzDTe0iZ25h"
      },
      "outputs": [],
      "source": [
        "# Gráfico de linhas\n",
        "\n",
        "sns.lineplot(x='periodo_dia', y='Valor', data = dadoarMP2_5)\n",
        "\n",
        "plt.title('Concentração do poluente PM2.5 medida para o Estado de São Paulo, \\n nos períodos do dia (2015 a 2021')\n",
        "plt.xlabel(\"Período do dia\")\n",
        "plt.ylabel(\"PM2.5 (µg/m3)\");"
      ]
    },
    {
      "cell_type": "code",
      "execution_count": null,
      "metadata": {
        "id": "Z7TNrx1HCoZV"
      },
      "outputs": [],
      "source": [
        "# Apagando as tabelas utilizadas na análise do poluente MP2.5\n",
        "\n",
        "tabelasMP2_5 = [dadoarMP2_5,dadoarMP2_5_2018,dadoarMP2_5_2016_2021]\n",
        "for tabela in tabelasMP10:\n",
        "    del tabela"
      ]
    },
    {
      "cell_type": "markdown",
      "metadata": {
        "id": "fNW-iDmLAuvJ"
      },
      "source": [
        "### 4.1.1 - Ozônio (O3)"
      ]
    },
    {
      "cell_type": "code",
      "execution_count": null,
      "metadata": {
        "id": "6kDA1SFwDgVY"
      },
      "outputs": [],
      "source": [
        "# Selecionando no banco dadoarsp o poluentes O3\n",
        "\n",
        "dadoarO3 = dadoarsp[['Data','Estacao','Poluente','Valor','Ano','estacao_ano','nmes','Mes','periodo_dia','Hora']]\n",
        "dadoarO3 = dadoarO3.loc[  dadoarO3 ['Poluente'] == 'O3' ]"
      ]
    },
    {
      "cell_type": "code",
      "execution_count": null,
      "metadata": {
        "id": "XCFysnEnDxel"
      },
      "outputs": [],
      "source": [
        "# Verificando o banco dadoarO3\n",
        "\n",
        "dadoarO3"
      ]
    },
    {
      "cell_type": "code",
      "execution_count": null,
      "metadata": {
        "id": "sT7X8XRZFd2_"
      },
      "outputs": [],
      "source": [
        "descricao_valor = dadoarO3['Valor'].describe()\n",
        "print(descricao_valor)"
      ]
    },
    {
      "cell_type": "code",
      "execution_count": null,
      "metadata": {
        "id": "mbG5TVnlEgRX"
      },
      "outputs": [],
      "source": [
        "# Gráfico de linhas da série histórica do poluente Ozônio (O3)\n",
        "\n",
        "sns.set_style('darkgrid')\n",
        "sns.set_theme(style=\"darkgrid\", font_scale=0.75)\n",
        "plt.ylabel(\"O3 (µg/m3)\")\n",
        "plt.xlabel(\"Ano\")\n",
        "plt.plot(dadoarO3['Data'], dadoarO3['Valor'])\n",
        "plt.title('Concentração do poluente ozônio O3 medida pela estação Irajá de 2012 a 2021');"
      ]
    },
    {
      "cell_type": "code",
      "execution_count": null,
      "metadata": {
        "id": "h7o21gVHPkPQ"
      },
      "outputs": [],
      "source": [
        "# Selecionando valores O3 para o Ano de 2021\n",
        "\n",
        "dadoarO3_2018 = dadoarO3[(dadoarO3['Ano'] == 2018) & (dadoarO3['Valor'] > 0)]"
      ]
    },
    {
      "cell_type": "code",
      "execution_count": null,
      "metadata": {
        "colab": {
          "background_save": true
        },
        "id": "qZh9sZObNrPf",
        "outputId": "a27d55d7-1064-4491-f321-4b1a2d40ff0a"
      },
      "outputs": [
        {
          "ename": "NameError",
          "evalue": "ignored",
          "output_type": "error",
          "traceback": [
            "\u001b[0;31m---------------------------------------------------------------------------\u001b[0m",
            "\u001b[0;31mNameError\u001b[0m                                 Traceback (most recent call last)",
            "\u001b[0;32m<ipython-input-42-3068ccfed012>\u001b[0m in \u001b[0;36m<cell line: 1>\u001b[0;34m()\u001b[0m\n\u001b[0;32m----> 1\u001b[0;31m \u001b[0mdadoarO3_2018_2019\u001b[0m\u001b[0;34m\u001b[0m\u001b[0;34m\u001b[0m\u001b[0m\n\u001b[0m",
            "\u001b[0;31mNameError\u001b[0m: name 'dadoarO3_2018_2019' is not defined"
          ]
        }
      ],
      "source": [
        "dadoarO3_2018_2019"
      ]
    },
    {
      "cell_type": "code",
      "execution_count": null,
      "metadata": {
        "colab": {
          "background_save": true
        },
        "id": "92nZ0K8kMgBq"
      },
      "outputs": [],
      "source": [
        "# analise por Municípios ao longo do período 2015 - 2021\n",
        "\n",
        "Graf_Munic = dadoarO3_2018_2019.groupby( by=['Estacao'] ).sum().reset_index()[['Estacao', 'Valor']].sort_values( 'Valor', descending=True )\n",
        "Graf_Munic.head()\n",
        "plt.figure( figsize=(8,5) )\n",
        "plt.title( 'Municípios com maiores valores medidos para o poluente O3 nos anos de 2018 e 2019', loc='left', fontsize=10 )\n",
        "plt.bar( Graf_Munic['Estacao'], Graf_Munic['Valor'], color='#f44e3f' )\n",
        "plt.ylabel('O3 (µg/m³)')\n",
        "plt.xticks( rotation=90 );"
      ]
    },
    {
      "cell_type": "code",
      "execution_count": null,
      "metadata": {
        "colab": {
          "background_save": true
        },
        "id": "hFFGYXbuEhMa"
      },
      "outputs": [],
      "source": [
        "# Gráfico de barras referente à ozônio O3\n",
        "\n",
        "gfg = sns.barplot(x = \"Ano\", y = \"Valor\", hue = \"estacao_ano\", data = dadoarO3, errorbar=None);\n",
        "plt.axhline(y=39.88, color='r', linestyle='-')\n",
        "plt.title(\"Concentração do poluente ozônio O3 medido pela estação Irajá por ano, \\n segundo estações climáticas (2012-2021)\")\n",
        "plt.ylabel(\"O3 (µg/m3)\")\n",
        "gfg.legend(fontsize=8)\n",
        "gfg.legend(bbox_to_anchor= (1,1))\n",
        "plt.show();"
      ]
    },
    {
      "cell_type": "code",
      "execution_count": null,
      "metadata": {
        "colab": {
          "background_save": true
        },
        "id": "YvEm1uAuGgN2"
      },
      "outputs": [],
      "source": [
        "# Selecionando no banco dadoarIR_grf os Anos de 2013 e 2020\n",
        "\n",
        "dadoarIR_2015_2020 = dadoarO3[['Valor','Ano','estacao_ano','Mes', 'nmes']]\n",
        "dadoarIR_2015_2020 = dadoarIR_2015_2020.loc[ ( dadoarO3 ['Ano'] == 2015) | (dadoarO3 ['Ano'] == 2017 ) |\n",
        "                                             ( dadoarO3 ['Ano'] == 2019) | (dadoarO3 ['Ano'] == 2020 ) ]"
      ]
    },
    {
      "cell_type": "code",
      "execution_count": null,
      "metadata": {
        "colab": {
          "background_save": true
        },
        "id": "8Lo9pBFJFEJ3"
      },
      "outputs": [],
      "source": [
        "# Gráfico de barras referente ao O3\n",
        "\n",
        "gfg = sns.barplot(x = \"Ano\", y = \"Valor\", hue = \"nmes\", data = dadoarIR_2015_2020, errorbar=None);\n",
        "plt.axhline(y=39.88, color='r', linestyle='-')\n",
        "plt.title(\"Concentração do poluente O3 medido pela estação Irajá por mês, \\n nos anos de 2015, 2017 2019 e 2020\")\n",
        "plt.ylabel(\"O3 (µg/m3)\")\n",
        "gfg.legend(fontsize = 4.5)\n",
        "gfg.legend(bbox_to_anchor = (1,1))\n",
        "plt.show();"
      ]
    },
    {
      "cell_type": "code",
      "execution_count": null,
      "metadata": {
        "colab": {
          "background_save": true
        },
        "id": "P-68wmAFLTA_"
      },
      "outputs": [],
      "source": [
        "# Gráfico de linhas\n",
        "\n",
        "sns.lineplot(x='periodo_dia', y='Valor', data = dadoarO3)\n",
        "plt.title('Concentração do poluente O3 medida pela estação Irajá, \\n nos períodos do dia (2012 a 2021')\n",
        "plt.xlabel(\"Período do dia\")\n",
        "plt.ylabel(\"O3 (µg/m3)\");"
      ]
    }
  ],
  "metadata": {
    "accelerator": "GPU",
    "colab": {
      "provenance": [],
      "toc_visible": true,
      "authorship_tag": "ABX9TyMEW5MQvcLt4GBFzrn30ujp",
      "include_colab_link": true
    },
    "kernelspec": {
      "display_name": "Python 3",
      "name": "python3"
    },
    "language_info": {
      "name": "python"
    }
  },
  "nbformat": 4,
  "nbformat_minor": 0
}